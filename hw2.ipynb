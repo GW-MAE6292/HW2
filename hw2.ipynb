{
 "cells": [
  {
   "cell_type": "markdown",
   "metadata": {
    "id": "IcJ2bbjQ8PIN"
   },
   "source": [
    "# MAE6292 - Homework \\# 2\n",
    "\n",
    "Camera Calibration and Object Rendering"
   ]
  },
  {
   "cell_type": "markdown",
   "metadata": {
    "id": "LvmSursi-GdP"
   },
   "source": [
    "## Import Modules\n",
    "\n"
   ]
  },
  {
   "cell_type": "code",
   "execution_count": null,
   "metadata": {
    "executionInfo": {
     "elapsed": 1047,
     "status": "ok",
     "timestamp": 1611068350100,
     "user": {
      "displayName": "Taeyoung Lee",
      "photoUrl": "",
      "userId": "07906618747313337531"
     },
     "user_tz": 300
    },
    "id": "o3eOxpLx7zs2"
   },
   "outputs": [],
   "source": [
    "import numpy as np\n",
    "import matplotlib.pyplot as plt\n",
    "\n",
    "import cv2"
   ]
  },
  {
   "cell_type": "markdown",
   "metadata": {
    "id": "HJWbV3vs-YFG"
   },
   "source": [
    "## Google Colab\n",
    "\n",
    "**Note**: skip this cell, if you are running it on your local computer.\n",
    "\n",
    "If you are running this code in Google Colab, execute the following commands to load `cv2_imshow` and mount your Google Drive.\n",
    "\n",
    "Modify the folder name as needed, and make it sure that you are in the correct folder."
   ]
  },
  {
   "cell_type": "code",
   "execution_count": null,
   "metadata": {
    "colab": {
     "base_uri": "https://localhost:8080/"
    },
    "executionInfo": {
     "elapsed": 45309,
     "status": "ok",
     "timestamp": 1611068394371,
     "user": {
      "displayName": "Taeyoung Lee",
      "photoUrl": "",
      "userId": "07906618747313337531"
     },
     "user_tz": 300
    },
    "id": "49qFdcUo-ral",
    "outputId": "75162ba0-81d6-459f-91f0-6f25f13de90b"
   },
   "outputs": [],
   "source": [
    "# from google.colab.patches import cv2_imshow\n",
    "# from google.colab import drive\n",
    "\n",
    "# drive.mount('/content/drive')\n",
    "\n",
    "# # this assumes that the homework folder in your local computer is \"Google Drive/MAE6292/HW2\"\n",
    "# # modify the folder name as \"drive/MyDrive/YOUR_FOLDER_NAME\" if neeed\n",
    "# %cd drive/MyDrive/MAE6292/HW2\n",
    "\n",
    "# !pwd\n",
    "# !ls"
   ]
  },
  {
   "cell_type": "markdown",
   "metadata": {
    "id": "hu-p0fRiQTqL"
   },
   "source": [
    "## Jupyter Notebook\n",
    "\n",
    "**Note**: skip this cell, if you are running this remotely on Google Colab.\n",
    "\n",
    "It turns out that `cv2.imshow()` does not work in Jupter Notebook as well. You may use the follwing function `cv2_imshow` instead. "
   ]
  },
  {
   "cell_type": "code",
   "execution_count": null,
   "metadata": {
    "executionInfo": {
     "elapsed": 45720,
     "status": "ok",
     "timestamp": 1611068394796,
     "user": {
      "displayName": "Taeyoung Lee",
      "photoUrl": "",
      "userId": "07906618747313337531"
     },
     "user_tz": 300
    },
    "id": "bg_xC1p_QTqL"
   },
   "outputs": [],
   "source": [
    "def cv2_imshow(image):\n",
    "# developed by Kanishke Gamagedara, udpated by MAE6292\n",
    "    plt.figure(dpi=200)\n",
    "    mode = len(np.shape(image))\n",
    "    if mode==3:\n",
    "        plt.imshow(cv2.cvtColor(image, cv2.COLOR_BGR2RGB))\n",
    "    elif mode==2:\n",
    "        plt.imshow(image, cmap='gray')\n",
    "    else:\n",
    "        print('Unsuported image size')\n",
    "        raise\n",
    "    plt.xticks([]), plt.yticks([]) \n",
    "    plt.axis('off')"
   ]
  },
  {
   "cell_type": "markdown",
   "metadata": {
    "id": "BTBIK24gARwZ"
   },
   "source": [
    "## Getting Checkerboard\n",
    "\n",
    "A checkerboard image is availalbe at [checkerboards](https://markhedleyjones.com/storage/checkerboards/Checkerboard-A4-40mm-6x4.pdf)\n",
    "\n",
    "You have three options to generate your own photo image of the above checkerboard.\n",
    "\n",
    "1. Print the above pdf file, and leave it on a flat surface. Take a photo with your phone.\n",
    "2. If you don't have a printer, display it on your monitor and take a photo with your phone. (Clean your monitor, and increase brightness and contrast)\n",
    "3. (**Not** recommended) If both of 1 and 2 do not work, use `IMG_0535.png` in the git repository\n",
    "\n",
    "Copy the photo file into your homework folder. "
   ]
  },
  {
   "cell_type": "markdown",
   "metadata": {},
   "source": [
    "## Problem 1 (Detect Corners)\n",
    "\n",
    "In this part, \n",
    "\n",
    "1. Detect the corners with `cv2.findChessboardCorneres()` (recall the size of the board is determined by the number of the inner corners)\n",
    "2. Refine the corners with `cv2.cornerSubPix()`\n",
    "3. Draw the refined corners with `cv2.drawChessboardCorners()`\n",
    "\n",
    "Save your image with the detected corners as **`prob1.png`**\n"
   ]
  },
  {
   "cell_type": "code",
   "execution_count": null,
   "metadata": {},
   "outputs": [],
   "source": [
    "img = cv2.imread('YOUR_IMAGE.png')\n",
    "\n",
    "# turn the image into grayscale\n",
    "# detect and refine corners\n",
    "\n",
    "img_corner = img.copy()\n",
    "cv2.drawChessboardCorners(img_corner, CHECKER, corners, flag_found)\n",
    "cv2_imshow(img_corner) "
   ]
  },
  {
   "cell_type": "markdown",
   "metadata": {},
   "source": [
    "## Problem 2 (Calibrate Camera)\n",
    "\n",
    "1. Create an array `obj_points` for the 3D world coordinates of the corners detected above. It should follow the same order as the corners. You may set `CHECKER_WIDTH=1`, i.e., the unit-length in the world coordinates corresponds to the side of one square. \n",
    "\n",
    "   You can define any world frame. In class, we defined it such that the origin is at the upper-left inner corner; the x-axis points toward righit; the y-axis point toward down; and the z-axis points down into the board.\n",
    "\n",
    "\n",
    "2. Calibrate camera with `cv2.calibrateCamera`\n",
    "3. Print the calibration matrix `K`\n",
    "4. Print the vector from the origin of the world frame to the origin of the camera frame, resolved in the world frame."
   ]
  },
  {
   "cell_type": "code",
   "execution_count": null,
   "metadata": {},
   "outputs": [],
   "source": [
    "CHECKER_WIDTH = 1\n",
    "obj_points = np.zeros( (CHECKER[0] * CHECKER[1], 1, 3 ), np.float32)\n",
    "\n",
    "\n",
    "\n",
    "\n"
   ]
  },
  {
   "cell_type": "markdown",
   "metadata": {},
   "source": [
    "## Problem 3 (Draw a Cube)\n",
    "\n",
    "Here we are going to draw a cube as illustrated below.\n",
    "Note that the side of the cube is equal to the side of the checkerboard sequare, and the cube is at the white square in the middle.\n",
    "\n",
    "![](img_cube.png)\n",
    "\n",
    "1. Define a `4 x 8 np.array`, namely `vertices`, whose column corresponds to the homogeneous coordinates of each vertex of the above cube. Recall the point `(x,y,z)` becomes `(x,y,z,1)` in the homogeneous coordinate.\n",
    "2. Define a list of [tuples](https://www.w3schools.com/python/python_tuples.asp), namely `edges` corresponding to 12 edges of the cube. For example, if the vertex 0 is connected to the vertex 1, the corresponding edge is defined by `edges = [ (0,1) ]`. As there are 12 edges, `edges` should contain 12 tuples. \n",
    "3. Use `cv2.line` to draw 12 edges, to complete the cube. You may choose any color, but the line width should be greater than or equal to `2`\n",
    "4. Make it sure that the cube is at the white square in the middle. Save your image as `prob3.png`"
   ]
  },
  {
   "cell_type": "code",
   "execution_count": null,
   "metadata": {},
   "outputs": [],
   "source": [
    "M = \n",
    "\n",
    "vertices = np.zeros((4, 8))\n",
    "\n",
    "# edges=[(0,1),\n",
    "\n",
    "\n",
    "# img_cube = img.copy()\n",
    "# for (i,j) in edges:\n",
    "#     cv2.line(......)\n",
    "    \n",
    "# cv2_imshow(img_cube)\n",
    "# cv2.imwrite(\"img_cube.png\",img_cube)"
   ]
  },
  {
   "cell_type": "markdown",
   "metadata": {},
   "source": [
    "## How to Turn in\n",
    "\n",
    "Make it sure you add the following three files to the repository before pusing it back to github.\n",
    "1. Your image file\n",
    "2. prob1.png\n",
    "3. prob3.png"
   ]
  }
 ],
 "metadata": {
  "colab": {
   "collapsed_sections": [],
   "name": "hw2_sol.ipynb",
   "provenance": []
  },
  "kernelspec": {
   "display_name": "Python 3",
   "language": "python",
   "name": "python3"
  },
  "language_info": {
   "codemirror_mode": {
    "name": "ipython",
    "version": 3
   },
   "file_extension": ".py",
   "mimetype": "text/x-python",
   "name": "python",
   "nbconvert_exporter": "python",
   "pygments_lexer": "ipython3",
   "version": "3.8.3"
  }
 },
 "nbformat": 4,
 "nbformat_minor": 1
}
